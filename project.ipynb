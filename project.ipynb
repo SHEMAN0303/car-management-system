{
  "nbformat": 4,
  "nbformat_minor": 0,
  "metadata": {
    "colab": {
      "provenance": []
    },
    "kernelspec": {
      "name": "python3",
      "display_name": "Python 3"
    },
    "language_info": {
      "name": "python"
    }
  },
  "cells": [
    {
      "cell_type": "code",
      "source": [
        "#Here's a class-based implementation of the Fortuner database:\n",
        "\n",
        "\n",
        "class Fortuner:\n",
        "    def __init__(self):\n",
        "        self.fortuner_db = {\n",
        "            \"Model_2024\": {\n",
        "                \"Engine\": \"2.8L Turbo Diesel\",\n",
        "                \"Power\": \"204 HP\",\n",
        "                \"Torque\": \"500 Nm\",\n",
        "                \"Transmission\": \"6-Speed Automatic\",\n",
        "                \"Fuel_Efficiency\": \"12 km/l\",\n",
        "                \"Features\": [\n",
        "                    \"Leather Seats\",\n",
        "                    \"Sunroof\",\n",
        "                    \"Navigation System\",\n",
        "                    \"Blind Spot Monitoring\",\n",
        "                    \"Cruise Control\"\n",
        "                ],\n",
        "                \"Price\": \"₹35,00,000\"\n",
        "            },\n",
        "            \"Model_2023\": {\n",
        "                \"Engine\": \"2.7L Petrol\",\n",
        "                \"Power\": \"164 HP\",\n",
        "                \"Torque\": \"245 Nm\",\n",
        "                \"Transmission\": \"6-Speed Manual\",\n",
        "                \"Fuel_Efficiency\": \"10 km/l\",\n",
        "                \"Features\": [\n",
        "                    \"Fabric Seats\",\n",
        "                    \"Rear Parking Sensors\",\n",
        "                    \"Touchscreen Infotainment\",\n",
        "                    \"Rear AC Vents\"\n",
        "                ],\n",
        "                \"Price\": \"₹30,00,000\"\n",
        "            }\n",
        "        }\n",
        "\n",
        "    def get_data(self, model, specification):\n",
        "        try:\n",
        "            return self.fortuner_db[model][specification]\n",
        "        except KeyError:\n",
        "            print(\"KeyError: Model or specification not found.\")\n",
        "        except TypeError:\n",
        "            print(\"TypeError: Invalid input type.\")\n",
        "\n",
        "    def display_all_data(self, model):\n",
        "        try:\n",
        "            return self.fortuner_db[model]\n",
        "        except KeyError:\n",
        "            print(\"KeyError: Model not found.\")\n",
        "\n",
        "# Create an instance of the Fortuner class\n",
        "fortuner = Fortuner()\n",
        "\n",
        "# Accessing data example\n",
        "print(fortuner.display_all_data(\"Model_2024\"))\n",
        "print(fortuner.get_data(\"Model_2024\", \"Features\"))\n",
        "#print(fortuner.display_all_data(\"Model_2023\"))\n",
        "#print(fortuner.get_data(\"Model_2023\", \"Features\"))\n",
        "\n",
        "# User input example\n",
        "model_input = input(\"ENTER CAR MODEL: \")\n",
        "specification_input = input(\"ENTER SPECIFICATION: \")\n",
        "print(fortuner.get_data(model_input, specification_input))"
      ],
      "metadata": {
        "colab": {
          "base_uri": "https://localhost:8080/"
        },
        "id": "koeR4h7NB3_e",
        "outputId": "d7e746ee-0711-4a76-fd6b-0141ab15a206"
      },
      "execution_count": 1,
      "outputs": [
        {
          "output_type": "stream",
          "name": "stdout",
          "text": [
            "{'Engine': '2.8L Turbo Diesel', 'Power': '204 HP', 'Torque': '500 Nm', 'Transmission': '6-Speed Automatic', 'Fuel_Efficiency': '12 km/l', 'Features': ['Leather Seats', 'Sunroof', 'Navigation System', 'Blind Spot Monitoring', 'Cruise Control'], 'Price': '₹35,00,000'}\n",
            "['Leather Seats', 'Sunroof', 'Navigation System', 'Blind Spot Monitoring', 'Cruise Control']\n",
            "ENTER CAR MODEL: Model_2024\n",
            "ENTER SPECIFICATION: Power\n",
            "204 HP\n"
          ]
        }
      ]
    },
    {
      "cell_type": "code",
      "source": [],
      "metadata": {
        "id": "hcD34kfHCqv7"
      },
      "execution_count": null,
      "outputs": []
    }
  ]
}